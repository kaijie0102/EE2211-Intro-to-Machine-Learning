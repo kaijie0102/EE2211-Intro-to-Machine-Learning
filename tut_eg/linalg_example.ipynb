{
 "cells": [
  {
   "cell_type": "code",
   "execution_count": null,
   "id": "9488b7b6",
   "metadata": {},
   "outputs": [],
   "source": [
    "import numpy as np"
   ]
  },
  {
   "cell_type": "code",
   "execution_count": null,
   "id": "c201c2c4",
   "metadata": {},
   "outputs": [],
   "source": [
    "X = np.array([1,2,1,3,1,0,12,1,9,4,3,2]).reshape(4,3)\n",
    "X"
   ]
  },
  {
   "cell_type": "code",
   "execution_count": null,
   "id": "7d92c1cb",
   "metadata": {},
   "outputs": [],
   "source": [
    "np.linalg.det(X.T @ X)"
   ]
  },
  {
   "cell_type": "code",
   "execution_count": null,
   "id": "067d62a9",
   "metadata": {},
   "outputs": [],
   "source": [
    "X.T @ X"
   ]
  },
  {
   "cell_type": "code",
   "execution_count": null,
   "id": "317ad64a",
   "metadata": {},
   "outputs": [],
   "source": [
    "np.linalg.matrix_rank(X)"
   ]
  },
  {
   "cell_type": "code",
   "execution_count": null,
   "id": "97b1d208",
   "metadata": {},
   "outputs": [],
   "source": [
    "import numpy as np\n",
    "from numpy.linalg import inv\n",
    "from numpy.linalg import det\n",
    "\n",
    "def check_invertibility(X):\n",
    "    # X is a (m,d) matrix. m is samples, d is features\n",
    "    # outputs true false values for (left_inverse_exist,right_inverse_exists)\n",
    "    left_inv_exist = True if (det(X.T @X) != 0) else False\n",
    "    right_inv_exist = True if (det(X @ X.T)!= 0) else False\n",
    "    return (left_inv_exist,right_inv_exist)\n",
    "\n",
    "def apply_left_inv(X, y):\n",
    "    # X as a (m,d) matrix must be overdetermined: m > d\n",
    "    # y is a d-tuple\n",
    "    # assumes that X^T @ X is invertible\n",
    "    w = inv(X.T @ X) @ X.T @ y\n",
    "    return w\n",
    "    \n",
    "def apply_right_inv(X,y):\n",
    "    # X is a 2d (m,d)-ndarray\n",
    "    # X as a (m,d) matrix must be under-determined: m < d\n",
    "    # y is a 1d (d)-ndarray\n",
    "    # assumes that X @ X^T  is invertible\n",
    "    w = X.T @ inv(X @ X.T) @ y\n",
    "    return w"
   ]
  },
  {
   "cell_type": "code",
   "execution_count": null,
   "id": "7e66ae7f",
   "metadata": {},
   "outputs": [],
   "source": []
  }
 ],
 "metadata": {
  "kernelspec": {
   "display_name": "Python 3",
   "language": "python",
   "name": "python3"
  },
  "language_info": {
   "codemirror_mode": {
    "name": "ipython",
    "version": 3
   },
   "file_extension": ".py",
   "mimetype": "text/x-python",
   "name": "python",
   "nbconvert_exporter": "python",
   "pygments_lexer": "ipython3",
   "version": "3.8.8"
  }
 },
 "nbformat": 4,
 "nbformat_minor": 5
}
