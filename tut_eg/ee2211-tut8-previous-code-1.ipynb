{
 "cells": [
  {
   "cell_type": "code",
   "execution_count": null,
   "id": "7e28bf5c",
   "metadata": {},
   "outputs": [],
   "source": [
    "import pandas as pd\n",
    "import matplotlib.pyplot as plt\n",
    "import numpy as np"
   ]
  },
  {
   "cell_type": "code",
   "execution_count": null,
   "id": "3099a572",
   "metadata": {},
   "outputs": [],
   "source": [
    "def exp_cost_gradient(X, w, y):\n",
    "    # Compute prediction, cost and gradient based on mean square error loss\n",
    "    pred_y = np.exp(-X @ w)\n",
    "    cost = np.sum((pred_y - y)*(pred_y - y)) \n",
    "    gradient = -2 * (pred_y - y) * pred_y @ X \n",
    "    return pred_y, cost, gradient"
   ]
  },
  {
   "cell_type": "code",
   "execution_count": null,
   "id": "c4b14ceb",
   "metadata": {
    "scrolled": true
   },
   "outputs": [],
   "source": [
    "# load data\n",
    "df = pd.read_csv(\"government-expenditure-on-education.csv\")\n",
    "expenditure = df['recurrent_expenditure_total'].to_numpy()\n",
    "years = df['year'].to_numpy()\n",
    "\n",
    "# create normalized variables\n",
    "max_expenditure = max(expenditure)\n",
    "max_year = max(years)\n",
    "y = expenditure/max_expenditure\n",
    "X = np.ones([len(y), 2])\n",
    "X[:, 1] = years/max_year\n",
    "\n",
    "# Gradient descent \n",
    "learning_rate = 0.03 #controls stepsize\n",
    "w_med = np.zeros(2) #initialised value of parameter w\n",
    "pred_y, cost, gradient = exp_cost_gradient(X, w_med, y) # zeroth iteration\n",
    "num_iters = 3000000;\n",
    "cost_vec_med_eta = np.zeros(num_iters)\n",
    "print('Initial Cost =', cost)\n",
    "for i in range(0, num_iters):\n",
    "    # update w\n",
    "    w_med = w_med - learning_rate*gradient\n",
    "    # compute updated cost and new gradient\n",
    "    pred_y, cost, gradient = exp_cost_gradient(X, w_med, y)\n",
    "    cost_vec_med_eta[i] = cost\n",
    "    if(i % 200000 == 0):\n",
    "        print('Iter', i, ': cost =', cost)\n",
    "        pred_y, cost, gradient = exp_cost_gradient(X, w_med, y)\n",
    "        print('Final Cost =', cost)"
   ]
  },
  {
   "cell_type": "code",
   "execution_count": null,
   "id": "71848dcd",
   "metadata": {},
   "outputs": [],
   "source": [
    "\n",
    "# Gradient descent \n",
    "learning_rate = 0.001 #controls stepsize\n",
    "w_small = np.zeros(2) #initialised value of parameter w\n",
    "pred_y, cost, gradient = exp_cost_gradient(X, w_small, y) # zeroth iteration\n",
    "\n",
    "cost_vec_small_eta = np.zeros(num_iters)\n",
    "print('Initial Cost =', cost)\n",
    "for i in range(0, num_iters):\n",
    "    # update w\n",
    "    w_small = w_small - learning_rate*gradient\n",
    "    # compute updated cost and new gradient\n",
    "    pred_y, cost, gradient = exp_cost_gradient(X, w_small, y)\n",
    "    cost_vec_small_eta[i] = cost\n",
    "    if(i % 200000 == 0):\n",
    "        print('Iter', i, ': cost =', cost)\n",
    "        pred_y, cost, gradient = exp_cost_gradient(X, w_small, y)\n",
    "        print('Final Cost =', cost)\n"
   ]
  },
  {
   "cell_type": "code",
   "execution_count": null,
   "id": "28ee8946",
   "metadata": {},
   "outputs": [],
   "source": [
    "# Gradient descent \n",
    "learning_rate = 0.1 #controls stepsize\n",
    "w_big = np.zeros(2) #initialised value of parameter w\n",
    "pred_y, cost, gradient = exp_cost_gradient(X, w_big, y) # zeroth iteration\n",
    "\n",
    "cost_vec_big_eta = np.zeros(num_iters)\n",
    "print('Initial Cost =', cost)\n",
    "for i in range(0, num_iters):\n",
    "    # update w\n",
    "    w_big = w_big - learning_rate*gradient\n",
    "    # compute updated cost and new gradient\n",
    "    pred_y, cost, gradient = exp_cost_gradient(X, w_big, y)\n",
    "    cost_vec_big_eta[i] = cost\n",
    "    if(i % 200000 == 0):\n",
    "        print('Iter', i, ': cost =', cost)\n",
    "        pred_y, cost, gradient = exp_cost_gradient(X, w_big, y)\n",
    "        print('Final Cost =', cost)\n"
   ]
  },
  {
   "cell_type": "code",
   "execution_count": null,
   "id": "4d982aea",
   "metadata": {},
   "outputs": [],
   "source": [
    "# Plot cost function values over iterations\n",
    "print(cost_vec_small_eta[-1])\n",
    "print(cost_vec_med_eta[-1])\n",
    "print(cost_vec_big_eta[-1])\n",
    "plt.figure(0, figsize=[9,4.5])\n",
    "plt.rcParams.update({'font.size': 16})\n",
    "plt.plot(np.arange(0, num_iters, 1), cost_vec_small_eta, c = 'red', label = 'eta = 0.001')\n",
    "plt.plot(np.arange(0, num_iters, 1), cost_vec_med_eta, c = 'green', label = 'eta = 0.03')\n",
    "plt.plot(np.arange(0, num_iters, 1), cost_vec_big_eta, c = 'yellow', label = 'eta = 0.1')\n",
    "plt.legend(loc='upper left',ncol=3, fontsize=15)\n",
    "plt.xlabel('Iteration Number')\n",
    "plt.ylabel('Square Error')\n",
    "plt.xticks(np.arange(0, num_iters+1, 500000))\n",
    "#plt.title('Learning rate = ' + str(learning_rate))\n",
    "# Extrapolate until year 2023\n",
    "ext_years = np.arange(min(years), 2024, 1)\n",
    "ext_X = np.ones([len(ext_years), 2])\n",
    "ext_X[:, 1] = ext_years/max_year\n",
    "pred_y_med = np.exp(-ext_X @ w_med)\n",
    "pred_y_small = np.exp(-ext_X @ w_small)\n",
    "pred_y_big = np.exp(-ext_X @ w_big)\n",
    "# Plot extrapolation\n",
    "plt.figure(1, figsize=[9,4.5])\n",
    "plt.rcParams.update({'font.size': 16})\n",
    "plt.scatter(years, expenditure, s=20, marker='o', c='blue', label='real data')\n",
    "plt.plot(ext_years, pred_y_med * max_expenditure, c='green', label='fitted with eta = 0.03')\n",
    "plt.plot(ext_years, pred_y_small * max_expenditure, c='red', label='fitted with eta = 0.001')\n",
    "plt.plot(ext_years, pred_y_big * max_expenditure, c='yellow', label='fitted with eta = 0.001')\n",
    "plt.xlabel('Year')\n",
    "plt.ylabel('Expenditure')\n",
    "#plt.title('Learning rate = ' + str(learning_rate))\n",
    "plt.legend(loc='upper left',ncol=3, fontsize=15)\n"
   ]
  },
  {
   "cell_type": "code",
   "execution_count": null,
   "id": "e3e6bb1a",
   "metadata": {},
   "outputs": [],
   "source": []
  },
  {
   "cell_type": "code",
   "execution_count": null,
   "id": "c9f0925c",
   "metadata": {},
   "outputs": [],
   "source": []
  }
 ],
 "metadata": {
  "kernelspec": {
   "display_name": "Python 3",
   "language": "python",
   "name": "python3"
  },
  "language_info": {
   "codemirror_mode": {
    "name": "ipython",
    "version": 3
   },
   "file_extension": ".py",
   "mimetype": "text/x-python",
   "name": "python",
   "nbconvert_exporter": "python",
   "pygments_lexer": "ipython3",
   "version": "3.10.9"
  }
 },
 "nbformat": 4,
 "nbformat_minor": 5
}
